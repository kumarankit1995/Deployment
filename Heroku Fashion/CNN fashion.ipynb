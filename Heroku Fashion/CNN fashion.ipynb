{
 "cells": [
  {
   "cell_type": "code",
   "execution_count": 38,
   "metadata": {},
   "outputs": [],
   "source": [
    "import pandas as pd\n",
    "import numpy as np\n",
    "import cv2\n",
    "import os\n",
    "import keras\n",
    "import matplotlib.pyplot as plt\n",
    "from keras.models import Sequential\n",
    "from keras.layers import Dense, Activation,BatchNormalization,Flatten,Conv2D,MaxPooling2D,Dropout\n",
    "from keras import optimizers\n",
    "from sklearn.model_selection import train_test_split\n",
    "from keras.utils.np_utils import to_categorical"
   ]
  },
  {
   "cell_type": "code",
   "execution_count": 4,
   "metadata": {},
   "outputs": [],
   "source": [
    "train=pd.read_csv('D:\\\\Ankit\\\\Python\\\\input\\\\fasion\\\\train_LbELtWX\\\\train.csv')\n",
    "test=pd.read_csv('D:\\\\Ankit\\\\Python\\\\input\\\\fasion\\\\test_ScVgIM0\\\\test.csv')\n",
    "\n",
    "train_image_path='D:\\\\Ankit\\\\Python\\\\input\\\\fasion\\\\train_LbELtWX\\\\train\\\\'\n",
    "test_image_path='D:\\\\Ankit\\\\Python\\\\input\\\\fasion\\\\test_ScVgIM0\\\\test\\\\'\n",
    "\n",
    "\n",
    "train_img=[]\n",
    "for i in train['id'].astype('str'):\n",
    "    train_img.append(cv2.imread(train_image_path+i+\".png\",0))\n",
    "    #img=cv2.imread(train_image_path+i,0)\n",
    "    #train_img.append(img)\n",
    "    \n",
    "    \n",
    "test_img=[]\n",
    "for i in test['id'].astype('str'):\n",
    "    test_img.append(cv2.imread(test_image_path+i+\".png\",0))\n",
    "    #img=cv2.imread(test_image_path+i,0)\n",
    "    #test_img.append(img)"
   ]
  },
  {
   "cell_type": "code",
   "execution_count": 5,
   "metadata": {},
   "outputs": [
    {
     "data": {
      "text/plain": [
       "<matplotlib.image.AxesImage at 0x18154109250>"
      ]
     },
     "execution_count": 5,
     "metadata": {},
     "output_type": "execute_result"
    },
    {
     "data": {
      "image/png": "[encoded data removed]",
      "text/plain": [
       "<Figure size 432x288 with 1 Axes>"
      ]
     },
     "metadata": {
      "needs_background": "light"
     },
     "output_type": "display_data"
    }
   ],
   "source": [
    "plt.imshow(train_img[0])"
   ]
  },
  {
   "cell_type": "code",
   "execution_count": 6,
   "metadata": {},
   "outputs": [],
   "source": [
    "train_img = np.array(train_img)\n",
    "test_img = np.array(test_img)"
   ]
  },
  {
   "cell_type": "code",
   "execution_count": 7,
   "metadata": {},
   "outputs": [
    {
     "data": {
      "text/plain": [
       "28"
      ]
     },
     "execution_count": 7,
     "metadata": {},
     "output_type": "execute_result"
    }
   ],
   "source": [
    "train_img.shape[1]"
   ]
  },
  {
   "cell_type": "code",
   "execution_count": 8,
   "metadata": {},
   "outputs": [],
   "source": [
    "X_data = train_img.reshape(train_img.shape[0],train_img.shape[1],train_img.shape[2],1)   "
   ]
  },
  {
   "cell_type": "code",
   "execution_count": 9,
   "metadata": {},
   "outputs": [],
   "source": [
    "Y_data = test_img.reshape(test_img.shape[0],test_img.shape[1],test_img.shape[2],1)"
   ]
  },
  {
   "cell_type": "code",
   "execution_count": 10,
   "metadata": {},
   "outputs": [],
   "source": [
    "y_data = to_categorical(train['label'])"
   ]
  },
  {
   "cell_type": "code",
   "execution_count": 11,
   "metadata": {},
   "outputs": [
    {
     "data": {
      "text/plain": [
       "(60000, 10)"
      ]
     },
     "execution_count": 11,
     "metadata": {},
     "output_type": "execute_result"
    }
   ],
   "source": [
    "y_data.shape"
   ]
  },
  {
   "cell_type": "code",
   "execution_count": 12,
   "metadata": {},
   "outputs": [
    {
     "data": {
      "text/plain": [
       "(60000, 28, 28, 1)"
      ]
     },
     "execution_count": 12,
     "metadata": {},
     "output_type": "execute_result"
    }
   ],
   "source": [
    "X_data.shape"
   ]
  },
  {
   "cell_type": "code",
   "execution_count": 13,
   "metadata": {},
   "outputs": [
    {
     "data": {
      "text/plain": [
       "(10000, 28, 28, 1)"
      ]
     },
     "execution_count": 13,
     "metadata": {},
     "output_type": "execute_result"
    }
   ],
   "source": [
    "Y_data.shape"
   ]
  },
  {
   "cell_type": "code",
   "execution_count": 14,
   "metadata": {},
   "outputs": [],
   "source": [
    "X_train,X_test,Y_train,Y_test = train_test_split(X_data,y_data,test_size=0.3,random_state=777)"
   ]
  },
  {
   "cell_type": "code",
   "execution_count": 15,
   "metadata": {},
   "outputs": [
    {
     "name": "stdout",
     "output_type": "stream",
     "text": [
      "(42000, 28, 28, 1)\n",
      "(18000, 28, 28, 1)\n",
      "(42000, 10)\n",
      "(18000, 10)\n"
     ]
    }
   ],
   "source": [
    "print(X_train.shape)\n",
    "print(X_test.shape)\n",
    "print(Y_train.shape)\n",
    "print(Y_test.shape)"
   ]
  },
  {
   "cell_type": "code",
   "execution_count": 16,
   "metadata": {},
   "outputs": [],
   "source": [
    "model = Sequential()"
   ]
  },
  {
   "cell_type": "code",
   "execution_count": 17,
   "metadata": {},
   "outputs": [],
   "source": [
    "input_shape = (X_data.shape[1],X_data.shape[2],X_data.shape[3])"
   ]
  },
  {
   "cell_type": "code",
   "execution_count": 18,
   "metadata": {},
   "outputs": [
    {
     "data": {
      "text/plain": [
       "(28, 28, 1)"
      ]
     },
     "execution_count": 18,
     "metadata": {},
     "output_type": "execute_result"
    }
   ],
   "source": [
    "input_shape"
   ]
  },
  {
   "cell_type": "code",
   "execution_count": 19,
   "metadata": {},
   "outputs": [],
   "source": [
    "model.add(Conv2D(input_shape = input_shape,filters=50,kernel_size =(3,3),strides =(1,1),padding = 'valid'))\n",
    "model.add(BatchNormalization())\n",
    "model.add(Activation('relu'))\n",
    "model.add(MaxPooling2D(pool_size = (2,2)))"
   ]
  },
  {
   "cell_type": "code",
   "execution_count": 20,
   "metadata": {},
   "outputs": [
    {
     "data": {
      "text/plain": [
       "(None, 13, 13, 50)"
      ]
     },
     "execution_count": 20,
     "metadata": {},
     "output_type": "execute_result"
    }
   ],
   "source": [
    "model.output_shape"
   ]
  },
  {
   "cell_type": "code",
   "execution_count": 21,
   "metadata": {},
   "outputs": [],
   "source": [
    "model.add(Flatten())"
   ]
  },
  {
   "cell_type": "code",
   "execution_count": 22,
   "metadata": {},
   "outputs": [
    {
     "data": {
      "text/plain": [
       "(None, 8450)"
      ]
     },
     "execution_count": 22,
     "metadata": {},
     "output_type": "execute_result"
    }
   ],
   "source": [
    "model.output_shape"
   ]
  },
  {
   "cell_type": "code",
   "execution_count": 23,
   "metadata": {},
   "outputs": [],
   "source": [
    "model.add(Dense(50,activation ='relu'))"
   ]
  },
  {
   "cell_type": "code",
   "execution_count": 24,
   "metadata": {},
   "outputs": [],
   "source": [
    "model.add(Dropout(0.2))"
   ]
  },
  {
   "cell_type": "code",
   "execution_count": 25,
   "metadata": {},
   "outputs": [],
   "source": [
    "model.add(Dense(10,activation = 'softmax'))"
   ]
  },
  {
   "cell_type": "code",
   "execution_count": 26,
   "metadata": {},
   "outputs": [],
   "source": [
    "adam = optimizers.Adam(lr = 0.001)"
   ]
  },
  {
   "cell_type": "code",
   "execution_count": 27,
   "metadata": {},
   "outputs": [],
   "source": [
    "model.compile(loss = 'categorical_crossentropy',optimizer = adam,metrics=['accuracy'])"
   ]
  },
  {
   "cell_type": "code",
   "execution_count": 28,
   "metadata": {},
   "outputs": [
    {
     "name": "stdout",
     "output_type": "stream",
     "text": [
      "Epoch 1/25\n",
      "672/672 [==============================] - 53s 79ms/step - loss: 0.6939 - accuracy: 0.7481 - val_loss: 0.3886 - val_accuracy: 0.8642\n",
      "Epoch 2/25\n",
      "672/672 [==============================] - 52s 78ms/step - loss: 0.4804 - accuracy: 0.8202 - val_loss: 0.3674 - val_accuracy: 0.8607\n",
      "Epoch 3/25\n",
      "672/672 [==============================] - 52s 78ms/step - loss: 0.4215 - accuracy: 0.8395 - val_loss: 0.3342 - val_accuracy: 0.8814\n",
      "Epoch 4/25\n",
      "672/672 [==============================] - 52s 78ms/step - loss: 0.3892 - accuracy: 0.8531 - val_loss: 0.3374 - val_accuracy: 0.8720\n",
      "Epoch 5/25\n",
      "672/672 [==============================] - 52s 77ms/step - loss: 0.3718 - accuracy: 0.8596 - val_loss: 0.3107 - val_accuracy: 0.8831\n",
      "Epoch 6/25\n",
      "672/672 [==============================] - 52s 78ms/step - loss: 0.3489 - accuracy: 0.8686 - val_loss: 0.3196 - val_accuracy: 0.8868\n",
      "Epoch 7/25\n",
      "672/672 [==============================] - 53s 78ms/step - loss: 0.3350 - accuracy: 0.8726 - val_loss: 0.3183 - val_accuracy: 0.8900\n",
      "Epoch 8/25\n",
      "672/672 [==============================] - 53s 78ms/step - loss: 0.3264 - accuracy: 0.8748 - val_loss: 0.3183 - val_accuracy: 0.8895\n",
      "Epoch 9/25\n",
      "672/672 [==============================] - 57s 85ms/step - loss: 0.3134 - accuracy: 0.8807 - val_loss: 0.3038 - val_accuracy: 0.8950\n",
      "Epoch 10/25\n",
      "672/672 [==============================] - 55s 81ms/step - loss: 0.3092 - accuracy: 0.8813 - val_loss: 0.3080 - val_accuracy: 0.8952\n",
      "Epoch 11/25\n",
      "672/672 [==============================] - 62s 92ms/step - loss: 0.2903 - accuracy: 0.8865 - val_loss: 0.3023 - val_accuracy: 0.8990\n",
      "Epoch 12/25\n",
      "672/672 [==============================] - 63s 94ms/step - loss: 0.2875 - accuracy: 0.8903 - val_loss: 0.3132 - val_accuracy: 0.8957\n",
      "Epoch 13/25\n",
      "672/672 [==============================] - 63s 93ms/step - loss: 0.2788 - accuracy: 0.8910 - val_loss: 0.3158 - val_accuracy: 0.8950\n",
      "Epoch 14/25\n",
      "672/672 [==============================] - 62s 92ms/step - loss: 0.2737 - accuracy: 0.8943 - val_loss: 0.3173 - val_accuracy: 0.8979\n",
      "Epoch 15/25\n",
      "672/672 [==============================] - 63s 94ms/step - loss: 0.2598 - accuracy: 0.8982 - val_loss: 0.3276 - val_accuracy: 0.8990\n",
      "Epoch 16/25\n",
      "672/672 [==============================] - 62s 93ms/step - loss: 0.2535 - accuracy: 0.9021 - val_loss: 0.3094 - val_accuracy: 0.8974\n",
      "Epoch 17/25\n",
      "672/672 [==============================] - 63s 93ms/step - loss: 0.2457 - accuracy: 0.9035 - val_loss: 0.3231 - val_accuracy: 0.9014\n",
      "Epoch 18/25\n",
      "672/672 [==============================] - 63s 94ms/step - loss: 0.2454 - accuracy: 0.9040 - val_loss: 0.3297 - val_accuracy: 0.8990\n",
      "Epoch 19/25\n",
      "672/672 [==============================] - 64s 96ms/step - loss: 0.2395 - accuracy: 0.9043 - val_loss: 0.3261 - val_accuracy: 0.9027\n",
      "Epoch 20/25\n",
      "672/672 [==============================] - 63s 94ms/step - loss: 0.2306 - accuracy: 0.9097 - val_loss: 0.3431 - val_accuracy: 0.8989\n",
      "Epoch 21/25\n",
      "672/672 [==============================] - 63s 94ms/step - loss: 0.2251 - accuracy: 0.9111 - val_loss: 0.3722 - val_accuracy: 0.8939\n",
      "Epoch 22/25\n",
      "672/672 [==============================] - 63s 94ms/step - loss: 0.2155 - accuracy: 0.9124 - val_loss: 0.3465 - val_accuracy: 0.8988\n",
      "Epoch 23/25\n",
      "672/672 [==============================] - 62s 92ms/step - loss: 0.2153 - accuracy: 0.9131 - val_loss: 0.3365 - val_accuracy: 0.9013\n",
      "Epoch 24/25\n",
      "672/672 [==============================] - 62s 92ms/step - loss: 0.2111 - accuracy: 0.9164 - val_loss: 0.3734 - val_accuracy: 0.8982\n",
      "Epoch 25/25\n",
      "672/672 [==============================] - 62s 92ms/step - loss: 0.2061 - accuracy: 0.9169 - val_loss: 0.3806 - val_accuracy: 0.8944\n",
      "Wall time: 24min 34s\n"
     ]
    }
   ],
   "source": [
    "%%time\n",
    "history = model.fit(X_train,Y_train,batch_size =50,validation_split=0.2,epochs =25,verbose=1 )"
   ]
  },
  {
   "cell_type": "code",
   "execution_count": 36,
   "metadata": {},
   "outputs": [],
   "source": [
    "model.save('fashion.h5')"
   ]
  },
  {
   "cell_type": "code",
   "execution_count": 39,
   "metadata": {},
   "outputs": [],
   "source": [
    "mod = keras.models.load_model('fashion.h5')"
   ]
  },
  {
   "cell_type": "markdown",
   "metadata": {},
   "source": [
    "https://www.tensorflow.org/guide/keras/save_and_serialize"
   ]
  },
  {
   "cell_type": "markdown",
   "metadata": {},
   "source": []
  },
  {
   "cell_type": "code",
   "execution_count": null,
   "metadata": {},
   "outputs": [],
   "source": []
  },
  {
   "cell_type": "code",
   "execution_count": 42,
   "metadata": {},
   "outputs": [
    {
     "data": {
      "image/png": "[encoded data removed]",
      "text/plain": [
       "<Figure size 432x288 with 1 Axes>"
      ]
     },
     "metadata": {
      "needs_background": "light"
     },
     "output_type": "display_data"
    }
   ],
   "source": [
    "plt.plot(history.history['accuracy'])\n",
    "plt.plot(history.history['val_accuracy'])\n",
    "plt.legend(['training', 'validation'], loc = 'upper left')\n",
    "plt.show()"
   ]
  },
  {
   "cell_type": "code",
   "execution_count": 41,
   "metadata": {},
   "outputs": [
    {
     "name": "stdout",
     "output_type": "stream",
     "text": [
      "563/563 [==============================] - 2s 3ms/step - loss: 0.3678 - accuracy: 0.9007\n"
     ]
    }
   ],
   "source": [
    "results = mod.evaluate(X_test,Y_test)"
   ]
  },
  {
   "cell_type": "code",
   "execution_count": 43,
   "metadata": {},
   "outputs": [
    {
     "name": "stdout",
     "output_type": "stream",
     "text": [
      "Test accuracy:  0.9006666541099548\n"
     ]
    }
   ],
   "source": [
    "print('Test accuracy: ', results[1])"
   ]
  }
 ],
 "metadata": {
  "kernelspec": {
   "display_name": "Python 3",
   "language": "python",
   "name": "python3"
  },
  "language_info": {
   "codemirror_mode": {
    "name": "ipython",
    "version": 3
   },
   "file_extension": ".py",
   "mimetype": "text/x-python",
   "name": "python",
   "nbconvert_exporter": "python",
   "pygments_lexer": "ipython3",
   "version": "3.8.3"
  }
 },
 "nbformat": 4,
 "nbformat_minor": 4
}
